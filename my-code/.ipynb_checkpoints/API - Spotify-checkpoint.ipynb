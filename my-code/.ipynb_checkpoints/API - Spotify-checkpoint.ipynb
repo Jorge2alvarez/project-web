{
 "cells": [
  {
   "cell_type": "code",
   "execution_count": 1,
   "metadata": {},
   "outputs": [],
   "source": [
    "import json\n",
    "import requests\n",
    "import pandas as pd\n",
    "import numpy as np\n",
    "from pandas.io.json import json_normalize"
   ]
  },
  {
   "cell_type": "code",
   "execution_count": 2,
   "metadata": {},
   "outputs": [],
   "source": [
    "#!pip install spotipy\n",
    "import sys\n",
    "import spotipy\n",
    "import spotipy.util as util"
   ]
  },
  {
   "cell_type": "markdown",
   "metadata": {},
   "source": [
    "## Obtener Token de acceso a Spotify (no funciona)"
   ]
  },
  {
   "cell_type": "markdown",
   "metadata": {},
   "source": [
    "username = 'jorge2alvarez'\n",
    "scope = 'user-library-read'\n",
    "\n",
    "util.prompt_for_user_token(username,scope,client_id='411e7881fcd948069863260bf13cb951',client_secret='73b190c492df417e9b09cad14f5054fc',redirect_uri='http://localhost:8888/callback/')\n"
   ]
  },
  {
   "cell_type": "markdown",
   "metadata": {},
   "source": [
    "## Acceder a la API de Spotify"
   ]
  },
  {
   "cell_type": "code",
   "execution_count": 37,
   "metadata": {},
   "outputs": [
    {
     "name": "stdout",
     "output_type": "stream",
     "text": [
      "Bearer BQDC0qKSg8jI3byMMb2NprJ8x3W5SdGuc-4w3o7CqB-Z1b6JoIfx738LgnTt8ja4bCwWIpHujpeOh3TRbtGprLJjmkF6-RXZjQTNfbOhseUu6ACskDktWCIdvEE7QggNjcIJhIK6hA7W0qtmonpY2RDCdJa08Di0Acg\n"
     ]
    }
   ],
   "source": [
    "auth_token='Bearer BQDC0qKSg8jI3byMMb2NprJ8x3W5SdGuc-4w3o7CqB-Z1b6JoIfx738LgnTt8ja4bCwWIpHujpeOh3TRbtGprLJjmkF6-RXZjQTNfbOhseUu6ACskDktWCIdvEE7QggNjcIJhIK6hA7W0qtmonpY2RDCdJa08Di0Acg'\n",
    "print(auth_token)"
   ]
  },
  {
   "cell_type": "markdown",
   "metadata": {},
   "source": [
    "## Obtener el TOP 50 de mis artistas mas escuchados  :) "
   ]
  },
  {
   "cell_type": "code",
   "execution_count": 82,
   "metadata": {},
   "outputs": [],
   "source": [
    "url = ('https://api.spotify.com/v1/me/top/artists?limit=50')\n",
    "result_spotify = requests.get(url, headers = {'Authorization':auth_token})"
   ]
  },
  {
   "cell_type": "markdown",
   "metadata": {},
   "source": [
    "## Funcion para aplanar las listas"
   ]
  },
  {
   "cell_type": "code",
   "execution_count": 83,
   "metadata": {},
   "outputs": [],
   "source": [
    "def flatten_json(y):\n",
    "    out = {}\n",
    "\n",
    "    def flatten(x, name=''):\n",
    "        if type(x) is dict:\n",
    "            for a in x:\n",
    "                flatten(x[a], name + a + '_')\n",
    "        elif type(x) is list:\n",
    "            i = 0\n",
    "            for a in x:\n",
    "                flatten(a, name + str(i) + '_')\n",
    "                i += 1\n",
    "        else:\n",
    "            out[name[:-1]] = x\n",
    "\n",
    "    flatten(y)\n",
    "    return out"
   ]
  },
  {
   "cell_type": "markdown",
   "metadata": {},
   "source": [
    "# \"Sub normalize\" el JSON"
   ]
  },
  {
   "cell_type": "code",
   "execution_count": 84,
   "metadata": {},
   "outputs": [],
   "source": [
    "results = result_spotify.json()\n",
    "flattened_data = json_normalize(results)"
   ]
  },
  {
   "cell_type": "code",
   "execution_count": 85,
   "metadata": {},
   "outputs": [],
   "source": [
    "#Del JSON inicial me interesa quedarme con el diccionario 'Items'\n",
    "data = json_normalize(results['items'])\n"
   ]
  },
  {
   "cell_type": "code",
   "execution_count": 87,
   "metadata": {},
   "outputs": [
    {
     "data": {
      "text/plain": [
       "Index(['external_urls.spotify', 'followers.href', 'followers.total', 'genres',\n",
       "       'href', 'id', 'images', 'name', 'popularity', 'type', 'uri'],\n",
       "      dtype='object')"
      ]
     },
     "execution_count": 87,
     "metadata": {},
     "output_type": "execute_result"
    }
   ],
   "source": [
    "# visualizar las columnas para identificar cuales no son necesarias\n",
    "data.columns"
   ]
  },
  {
   "cell_type": "code",
   "execution_count": 88,
   "metadata": {},
   "outputs": [],
   "source": [
    "# Eliminar columnas innecesarias\n",
    "data = data.drop(columns=['followers.href', 'href', 'id', 'images', 'type', 'uri'])"
   ]
  },
  {
   "cell_type": "code",
   "execution_count": 89,
   "metadata": {},
   "outputs": [],
   "source": [
    "generos = []\n",
    "for x in range(len(data)):\n",
    "    generos += data['genres'].iloc[x]"
   ]
  },
  {
   "cell_type": "code",
   "execution_count": 101,
   "metadata": {
    "scrolled": false
   },
   "outputs": [
    {
     "data": {
      "text/plain": [
       "pop                  21\n",
       "dance pop            16\n",
       "edm                  12\n",
       "tropical house       10\n",
       "post-teen pop         8\n",
       "big room              8\n",
       "electro house         7\n",
       "rap uruguayo          5\n",
       "argentine hip hop     4\n",
       "progressive house     4\n",
       "dtype: int64"
      ]
     },
     "execution_count": 101,
     "metadata": {},
     "output_type": "execute_result"
    }
   ],
   "source": [
    "pd.Series(generos).value_counts()[:10]"
   ]
  },
  {
   "cell_type": "code",
   "execution_count": 91,
   "metadata": {},
   "outputs": [],
   "source": [
    "# Defino 6 generos musicales globales, y creo un diccionario con los sub-generos\n",
    "categories = {'pop': ['pop'], 'rock': ['rock'], 'dance': ['dance', 'electro', 'electronic', 'house', 'edm', 'techno'], 'hip hop': ['hip hop', 'rap', 'trap'], 'latina':['cumbia', 'reggaeton'], 'metal':['metal'], 'others':['others']}\n",
    "\n",
    "# Paso valor 0 a todas las columnas\n",
    "#data[['pop', 'rock', 'dance', 'hip hop', 'latina', 'metal', 'others']] = 0\n",
    "\n",
    "# asignar 1 o 0 dependiendo de si los generos globales existen dentro de cada genero en la columna genres del dataframe\n",
    "for category in categories.keys():\n",
    "    data[category] = 0\n",
    "    lst_1 = categories[category]\n",
    "    for unique_cat in range(len(lst_1)):   \n",
    "        for index in range(len(data)):\n",
    "            lst_2 = \" - \".join(list(data['genres'].iloc[index]))\n",
    "            if lst_1[unique_cat] in lst_2:\n",
    "                data[category].iloc[index] = 1\n",
    "           \n",
    "                "
   ]
  },
  {
   "cell_type": "code",
   "execution_count": 92,
   "metadata": {},
   "outputs": [],
   "source": [
    "# Se asigna 1 a la columna Others a los artistas que no tengan categorias asignadas\n",
    "data['others'].loc[(data['pop'] == 0) &(data['dance'] == 0)&(data['latina'] == 0)&(data['hip hop'] == 0)&(data['rock'] == 0)&(data['metal'] == 0)] = 1"
   ]
  },
  {
   "cell_type": "code",
   "execution_count": 93,
   "metadata": {
    "scrolled": false
   },
   "outputs": [],
   "source": [
    "# Ordenar Columnas\n",
    "data = data.reindex(columns=['name', 'followers.total', 'popularity', 'pop', 'dance','latina', 'hip hop',  'rock', 'metal', 'others', 'genres', 'external_urls.spotify'])"
   ]
  },
  {
   "cell_type": "code",
   "execution_count": 95,
   "metadata": {
    "scrolled": false
   },
   "outputs": [
    {
     "data": {
      "text/html": [
       "<div>\n",
       "<style scoped>\n",
       "    .dataframe tbody tr th:only-of-type {\n",
       "        vertical-align: middle;\n",
       "    }\n",
       "\n",
       "    .dataframe tbody tr th {\n",
       "        vertical-align: top;\n",
       "    }\n",
       "\n",
       "    .dataframe thead th {\n",
       "        text-align: right;\n",
       "    }\n",
       "</style>\n",
       "<table border=\"1\" class=\"dataframe\">\n",
       "  <thead>\n",
       "    <tr style=\"text-align: right;\">\n",
       "      <th></th>\n",
       "      <th>name</th>\n",
       "      <th>followers.total</th>\n",
       "      <th>popularity</th>\n",
       "      <th>pop</th>\n",
       "      <th>dance</th>\n",
       "      <th>latina</th>\n",
       "      <th>hip hop</th>\n",
       "      <th>rock</th>\n",
       "      <th>metal</th>\n",
       "      <th>others</th>\n",
       "      <th>genres</th>\n",
       "      <th>external_urls.spotify</th>\n",
       "    </tr>\n",
       "  </thead>\n",
       "  <tbody>\n",
       "    <tr>\n",
       "      <th>0</th>\n",
       "      <td>Galantis</td>\n",
       "      <td>2647917</td>\n",
       "      <td>78</td>\n",
       "      <td>1</td>\n",
       "      <td>1</td>\n",
       "      <td>0</td>\n",
       "      <td>0</td>\n",
       "      <td>0</td>\n",
       "      <td>0</td>\n",
       "      <td>0</td>\n",
       "      <td>[big room, dance pop, edm, electro house, pop,...</td>\n",
       "      <td>https://open.spotify.com/artist/4sTQVOfp9vEMCe...</td>\n",
       "    </tr>\n",
       "    <tr>\n",
       "      <th>1</th>\n",
       "      <td>KSHMR</td>\n",
       "      <td>1036684</td>\n",
       "      <td>72</td>\n",
       "      <td>1</td>\n",
       "      <td>1</td>\n",
       "      <td>0</td>\n",
       "      <td>0</td>\n",
       "      <td>0</td>\n",
       "      <td>0</td>\n",
       "      <td>0</td>\n",
       "      <td>[big room, dance pop, deep big room, edm, elec...</td>\n",
       "      <td>https://open.spotify.com/artist/2wX6xSig4Rig5k...</td>\n",
       "    </tr>\n",
       "    <tr>\n",
       "      <th>2</th>\n",
       "      <td>El Cuarteto De Nos</td>\n",
       "      <td>417525</td>\n",
       "      <td>65</td>\n",
       "      <td>0</td>\n",
       "      <td>0</td>\n",
       "      <td>0</td>\n",
       "      <td>0</td>\n",
       "      <td>1</td>\n",
       "      <td>0</td>\n",
       "      <td>0</td>\n",
       "      <td>[argentine rock, latin alternative, latin rock...</td>\n",
       "      <td>https://open.spotify.com/artist/13JJKrUewC1CJY...</td>\n",
       "    </tr>\n",
       "    <tr>\n",
       "      <th>3</th>\n",
       "      <td>Los Buenos Modales</td>\n",
       "      <td>3901</td>\n",
       "      <td>32</td>\n",
       "      <td>0</td>\n",
       "      <td>0</td>\n",
       "      <td>0</td>\n",
       "      <td>1</td>\n",
       "      <td>0</td>\n",
       "      <td>0</td>\n",
       "      <td>0</td>\n",
       "      <td>[argentine hip hop, rap uruguayo]</td>\n",
       "      <td>https://open.spotify.com/artist/7rne4LJNgXjjgb...</td>\n",
       "    </tr>\n",
       "    <tr>\n",
       "      <th>4</th>\n",
       "      <td>Daft Punk</td>\n",
       "      <td>5418797</td>\n",
       "      <td>82</td>\n",
       "      <td>0</td>\n",
       "      <td>1</td>\n",
       "      <td>0</td>\n",
       "      <td>0</td>\n",
       "      <td>0</td>\n",
       "      <td>0</td>\n",
       "      <td>0</td>\n",
       "      <td>[electro, electronic, filter house]</td>\n",
       "      <td>https://open.spotify.com/artist/4tZwfgrHOc3mvq...</td>\n",
       "    </tr>\n",
       "  </tbody>\n",
       "</table>\n",
       "</div>"
      ],
      "text/plain": [
       "                 name  followers.total  popularity  pop  dance  latina  \\\n",
       "0            Galantis          2647917          78    1      1       0   \n",
       "1               KSHMR          1036684          72    1      1       0   \n",
       "2  El Cuarteto De Nos           417525          65    0      0       0   \n",
       "3  Los Buenos Modales             3901          32    0      0       0   \n",
       "4           Daft Punk          5418797          82    0      1       0   \n",
       "\n",
       "   hip hop  rock  metal  others  \\\n",
       "0        0     0      0       0   \n",
       "1        0     0      0       0   \n",
       "2        0     1      0       0   \n",
       "3        1     0      0       0   \n",
       "4        0     0      0       0   \n",
       "\n",
       "                                              genres  \\\n",
       "0  [big room, dance pop, edm, electro house, pop,...   \n",
       "1  [big room, dance pop, deep big room, edm, elec...   \n",
       "2  [argentine rock, latin alternative, latin rock...   \n",
       "3                  [argentine hip hop, rap uruguayo]   \n",
       "4                [electro, electronic, filter house]   \n",
       "\n",
       "                               external_urls.spotify  \n",
       "0  https://open.spotify.com/artist/4sTQVOfp9vEMCe...  \n",
       "1  https://open.spotify.com/artist/2wX6xSig4Rig5k...  \n",
       "2  https://open.spotify.com/artist/13JJKrUewC1CJY...  \n",
       "3  https://open.spotify.com/artist/7rne4LJNgXjjgb...  \n",
       "4  https://open.spotify.com/artist/4tZwfgrHOc3mvq...  "
      ]
     },
     "execution_count": 95,
     "metadata": {},
     "output_type": "execute_result"
    }
   ],
   "source": [
    "data.head()"
   ]
  },
  {
   "cell_type": "code",
   "execution_count": 97,
   "metadata": {},
   "outputs": [],
   "source": [
    "# Guardar CSV para trabjar sobre el web Scrapping\n",
    "data.to_csv('Spotify_v2-1.csv')"
   ]
  }
 ],
 "metadata": {
  "kernelspec": {
   "display_name": "Python 3",
   "language": "python",
   "name": "python3"
  },
  "language_info": {
   "codemirror_mode": {
    "name": "ipython",
    "version": 3
   },
   "file_extension": ".py",
   "mimetype": "text/x-python",
   "name": "python",
   "nbconvert_exporter": "python",
   "pygments_lexer": "ipython3",
   "version": "3.7.3"
  }
 },
 "nbformat": 4,
 "nbformat_minor": 2
}
